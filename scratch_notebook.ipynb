{
  "nbformat": 4,
  "nbformat_minor": 0,
  "metadata": {
    "colab": {
      "provenance": [],
      "collapsed_sections": [],
      "include_colab_link": true
    },
    "kernelspec": {
      "name": "python3",
      "display_name": "Python 3"
    },
    "language_info": {
      "name": "python"
    }
  },
  "cells": [
    {
      "cell_type": "markdown",
      "metadata": {
        "id": "view-in-github",
        "colab_type": "text"
      },
      "source": [
        "<a href=\"https://colab.research.google.com/github/x9hd/IntroToDataScience/blob/master/scratch_notebook.ipynb\" target=\"_parent\"><img src=\"https://colab.research.google.com/assets/colab-badge.svg\" alt=\"Open In Colab\"/></a>"
      ]
    },
    {
      "cell_type": "markdown",
      "source": [
        "# Scratch notebook"
      ],
      "metadata": {
        "id": "_imdbUt7c1Hb"
      }
    },
    {
      "cell_type": "code",
      "source": [
        "!curl -O \"https://raw.githubusercontent.com/allisonhorst/palmerpenguins/main/inst/extdata/penguins.csv\""
      ],
      "metadata": {
        "colab": {
          "base_uri": "https://localhost:8080/"
        },
        "id": "vZe35QISG1M1",
        "outputId": "537aa539-9757-4cb7-acf6-5d01d1e217e5"
      },
      "execution_count": null,
      "outputs": [
        {
          "output_type": "stream",
          "name": "stdout",
          "text": [
            "  % Total    % Received % Xferd  Average Speed   Time    Time     Time  Current\n",
            "                                 Dload  Upload   Total   Spent    Left  Speed\n",
            "\r  0     0    0     0    0     0      0      0 --:--:-- --:--:-- --:--:--     0\r100 15241  100 15241    0     0  89652      0 --:--:-- --:--:-- --:--:-- 89652\n"
          ]
        }
      ]
    },
    {
      "cell_type": "code",
      "source": [
        "def readit_all(filename=\"penguins.csv\"):\n",
        "    \"\"\"\n",
        "    Read and parse CSV -- read the entire file then process one line at a time.\n",
        "    \"\"\"\n",
        "    with open(filename, 'r', encoding=\"utf-8\") as file:\n",
        "      print('reading this file:', filename)\n",
        "      my_file_string = file.read()\n",
        "      my_list_of_strings = my_file_string.rstrip().split('\\n')\n",
        "\n",
        "    mylist = my_list_of_strings\n",
        "\n",
        "    keys = mylist.pop(0)\n",
        "    keys = keys.split(\",\")\n",
        "\n",
        "    data = []\n",
        "    for row in mylist:\n",
        "      values = row.split(\",\")\n",
        "      datum = {keys[i]: value for i, value in enumerate(values)}\n",
        "      data.append(datum)\n",
        "    \n",
        "    return data\n",
        "\n"
      ],
      "metadata": {
        "id": "YwPOpCVfG5ir"
      },
      "execution_count": null,
      "outputs": []
    },
    {
      "cell_type": "code",
      "source": [
        "import matplotlib.pyplot as plt\n",
        "\n",
        "data = readit_all()\n",
        "\n",
        "x_label = \"bill_length_mm\"\n",
        "y_label = \"bill_depth_mm\"\n",
        "\n",
        "for datum in data:\n",
        "  if datum[x_label] == \"NA\" or datum[y_label] == \"NA\":\n",
        "    continue\n",
        "  plt.scatter(float(datum[x_label]), float(datum[y_label]), c=\"steelblue\")\n",
        "\n",
        "data[0]"
      ],
      "metadata": {
        "colab": {
          "base_uri": "https://localhost:8080/",
          "height": 421
        },
        "id": "GHlf1a8zHBzz",
        "outputId": "ab3d8c8f-c3fa-418a-c3a7-d574a7defe7f"
      },
      "execution_count": null,
      "outputs": [
        {
          "output_type": "stream",
          "name": "stdout",
          "text": [
            "reading this file: penguins.csv\n"
          ]
        },
        {
          "output_type": "execute_result",
          "data": {
            "text/plain": [
              "{'species': 'Adelie',\n",
              " 'island': 'Torgersen',\n",
              " 'bill_length_mm': '39.1',\n",
              " 'bill_depth_mm': '18.7',\n",
              " 'flipper_length_mm': '181',\n",
              " 'body_mass_g': '3750',\n",
              " 'sex': 'male',\n",
              " 'year': '2007'}"
            ]
          },
          "metadata": {},
          "execution_count": 7
        },
        {
          "output_type": "display_data",
          "data": {
            "text/plain": [
              "<Figure size 432x288 with 1 Axes>"
            ],
            "image/png": "[encoded data removed]"
          },
          "metadata": {
            "needs_background": "light"
          }
        }
      ]
    },
    {
      "cell_type": "code",
      "source": [],
      "metadata": {
        "id": "7HuRV2_mHPjZ"
      },
      "execution_count": null,
      "outputs": []
    }
  ]
}